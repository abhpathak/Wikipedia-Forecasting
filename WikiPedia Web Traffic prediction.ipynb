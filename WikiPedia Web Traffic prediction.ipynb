{
 "cells": [
  {
   "cell_type": "code",
   "execution_count": 3,
   "metadata": {},
   "outputs": [],
   "source": [
    "import pandas as pd\n",
    "import numpy as np\n",
    "\n",
    "import matplotlib.pyplot as plt\n",
    "import seaborn as sn\n",
    "import zipfile\n",
    "import re\n",
    "import sys\n",
    "\n",
    "import xgboost as xgb\n",
    "import time\n",
    "\n",
    "from sklearn.preprocessing import LabelEncoder\n",
    "\n",
    "from xgboost import XGBRegressor\n",
    "from xgboost import plot_importance\n",
    "\n",
    "def plot_features(booster, figsize):    \n",
    "    fig, ax = plt.subplots(1,1,figsize=figsize)\n",
    "    return plot_importance(booster=booster, ax=ax)\n",
    "\n",
    "def smape(y_true, y_pred):\n",
    "    denominator = (np.abs(y_true) + np.abs(y_pred)) / 200.0\n",
    "    diff = np.abs(y_true - y_pred) / denominator\n",
    "    diff[denominator == 0] = 0.0\n",
    "    return np.nanmean(diff)"
   ]
  },
  {
   "cell_type": "code",
   "execution_count": 4,
   "metadata": {},
   "outputs": [],
   "source": [
    "path = \"...\""
   ]
  },
  {
   "cell_type": "code",
   "execution_count": 5,
   "metadata": {},
   "outputs": [],
   "source": [
    "zf_train_1 = zipfile.ZipFile(path + 'train_1.csv.zip')\n",
    "zf_train_2 = zipfile.ZipFile(path + 'train_2.csv.zip')\n",
    "zf_key_1 = zipfile.ZipFile(path + 'key_1.csv.zip')\n",
    "zf_key_2 = zipfile.ZipFile(path + 'key_2.csv.zip')\n",
    "zf_sb_1 = zipfile.ZipFile(path + 'sample_submission_1.csv.zip')\n",
    "zf_sb_2 = zipfile.ZipFile(path + 'sample_submission_2.csv.zip')\n",
    "\n",
    "#train_1 = pd.read_csv(zf_train_1.open('train_1.csv'))\n",
    "train_2 = pd.read_csv(zf_train_2.open('train_2.csv'))\n",
    "#key_1 = pd.read_csv(zf_key_1.open('key_1.csv'))\n",
    "#key_2 = pd.read_csv(zf_key_2.open('key_2.csv'))\n",
    "#sample_sub_1 = pd.read_csv(zf_sb_1.open('sample_submission_1.csv'))\n",
    "#sample_sub_2 = pd.read_csv(zf_sb_2.open('sample_submission_2.csv'))"
   ]
  },
  {
   "cell_type": "code",
   "execution_count": 6,
   "metadata": {},
   "outputs": [
    {
     "data": {
      "text/plain": [
       "\"sample_sub_2 = sample_sub_2[:100]\\nsample_sub_2.info(verbose = False, memory_usage = 'deep')\""
      ]
     },
     "execution_count": 6,
     "metadata": {},
     "output_type": "execute_result"
    }
   ],
   "source": [
    "'''sample_sub_2 = sample_sub_2[:100]\n",
    "sample_sub_2.info(verbose = False, memory_usage = 'deep')'''"
   ]
  },
  {
   "cell_type": "code",
   "execution_count": 7,
   "metadata": {},
   "outputs": [
    {
     "name": "stdout",
     "output_type": "stream",
     "text": [
      "(145063, 804)\n"
     ]
    },
    {
     "data": {
      "text/html": [
       "<div>\n",
       "<style scoped>\n",
       "    .dataframe tbody tr th:only-of-type {\n",
       "        vertical-align: middle;\n",
       "    }\n",
       "\n",
       "    .dataframe tbody tr th {\n",
       "        vertical-align: top;\n",
       "    }\n",
       "\n",
       "    .dataframe thead th {\n",
       "        text-align: right;\n",
       "    }\n",
       "</style>\n",
       "<table border=\"1\" class=\"dataframe\">\n",
       "  <thead>\n",
       "    <tr style=\"text-align: right;\">\n",
       "      <th></th>\n",
       "      <th>Page</th>\n",
       "      <th>2015-07-01</th>\n",
       "      <th>2015-07-02</th>\n",
       "      <th>2015-07-03</th>\n",
       "      <th>2015-07-04</th>\n",
       "      <th>2015-07-05</th>\n",
       "      <th>2015-07-06</th>\n",
       "      <th>2015-07-07</th>\n",
       "      <th>2015-07-08</th>\n",
       "      <th>2015-07-09</th>\n",
       "      <th>...</th>\n",
       "      <th>2017-09-01</th>\n",
       "      <th>2017-09-02</th>\n",
       "      <th>2017-09-03</th>\n",
       "      <th>2017-09-04</th>\n",
       "      <th>2017-09-05</th>\n",
       "      <th>2017-09-06</th>\n",
       "      <th>2017-09-07</th>\n",
       "      <th>2017-09-08</th>\n",
       "      <th>2017-09-09</th>\n",
       "      <th>2017-09-10</th>\n",
       "    </tr>\n",
       "  </thead>\n",
       "  <tbody>\n",
       "    <tr>\n",
       "      <th>0</th>\n",
       "      <td>2NE1_zh.wikipedia.org_all-access_spider</td>\n",
       "      <td>18.0</td>\n",
       "      <td>11.0</td>\n",
       "      <td>5.0</td>\n",
       "      <td>13.0</td>\n",
       "      <td>14.0</td>\n",
       "      <td>9.0</td>\n",
       "      <td>9.0</td>\n",
       "      <td>22.0</td>\n",
       "      <td>26.0</td>\n",
       "      <td>...</td>\n",
       "      <td>19.0</td>\n",
       "      <td>33.0</td>\n",
       "      <td>33.0</td>\n",
       "      <td>18.0</td>\n",
       "      <td>16.0</td>\n",
       "      <td>27.0</td>\n",
       "      <td>29.0</td>\n",
       "      <td>23.0</td>\n",
       "      <td>54.0</td>\n",
       "      <td>38.0</td>\n",
       "    </tr>\n",
       "    <tr>\n",
       "      <th>1</th>\n",
       "      <td>2PM_zh.wikipedia.org_all-access_spider</td>\n",
       "      <td>11.0</td>\n",
       "      <td>14.0</td>\n",
       "      <td>15.0</td>\n",
       "      <td>18.0</td>\n",
       "      <td>11.0</td>\n",
       "      <td>13.0</td>\n",
       "      <td>22.0</td>\n",
       "      <td>11.0</td>\n",
       "      <td>10.0</td>\n",
       "      <td>...</td>\n",
       "      <td>32.0</td>\n",
       "      <td>30.0</td>\n",
       "      <td>11.0</td>\n",
       "      <td>19.0</td>\n",
       "      <td>54.0</td>\n",
       "      <td>25.0</td>\n",
       "      <td>26.0</td>\n",
       "      <td>23.0</td>\n",
       "      <td>13.0</td>\n",
       "      <td>81.0</td>\n",
       "    </tr>\n",
       "    <tr>\n",
       "      <th>2</th>\n",
       "      <td>3C_zh.wikipedia.org_all-access_spider</td>\n",
       "      <td>1.0</td>\n",
       "      <td>0.0</td>\n",
       "      <td>1.0</td>\n",
       "      <td>1.0</td>\n",
       "      <td>0.0</td>\n",
       "      <td>4.0</td>\n",
       "      <td>0.0</td>\n",
       "      <td>3.0</td>\n",
       "      <td>4.0</td>\n",
       "      <td>...</td>\n",
       "      <td>6.0</td>\n",
       "      <td>6.0</td>\n",
       "      <td>7.0</td>\n",
       "      <td>2.0</td>\n",
       "      <td>4.0</td>\n",
       "      <td>7.0</td>\n",
       "      <td>3.0</td>\n",
       "      <td>4.0</td>\n",
       "      <td>7.0</td>\n",
       "      <td>6.0</td>\n",
       "    </tr>\n",
       "    <tr>\n",
       "      <th>3</th>\n",
       "      <td>4minute_zh.wikipedia.org_all-access_spider</td>\n",
       "      <td>35.0</td>\n",
       "      <td>13.0</td>\n",
       "      <td>10.0</td>\n",
       "      <td>94.0</td>\n",
       "      <td>4.0</td>\n",
       "      <td>26.0</td>\n",
       "      <td>14.0</td>\n",
       "      <td>9.0</td>\n",
       "      <td>11.0</td>\n",
       "      <td>...</td>\n",
       "      <td>7.0</td>\n",
       "      <td>19.0</td>\n",
       "      <td>19.0</td>\n",
       "      <td>9.0</td>\n",
       "      <td>6.0</td>\n",
       "      <td>16.0</td>\n",
       "      <td>19.0</td>\n",
       "      <td>30.0</td>\n",
       "      <td>38.0</td>\n",
       "      <td>4.0</td>\n",
       "    </tr>\n",
       "    <tr>\n",
       "      <th>4</th>\n",
       "      <td>52_Hz_I_Love_You_zh.wikipedia.org_all-access_s...</td>\n",
       "      <td>NaN</td>\n",
       "      <td>NaN</td>\n",
       "      <td>NaN</td>\n",
       "      <td>NaN</td>\n",
       "      <td>NaN</td>\n",
       "      <td>NaN</td>\n",
       "      <td>NaN</td>\n",
       "      <td>NaN</td>\n",
       "      <td>NaN</td>\n",
       "      <td>...</td>\n",
       "      <td>16.0</td>\n",
       "      <td>16.0</td>\n",
       "      <td>19.0</td>\n",
       "      <td>9.0</td>\n",
       "      <td>20.0</td>\n",
       "      <td>23.0</td>\n",
       "      <td>28.0</td>\n",
       "      <td>14.0</td>\n",
       "      <td>8.0</td>\n",
       "      <td>7.0</td>\n",
       "    </tr>\n",
       "  </tbody>\n",
       "</table>\n",
       "<p>5 rows × 804 columns</p>\n",
       "</div>"
      ],
      "text/plain": [
       "                                                Page  2015-07-01  2015-07-02  \\\n",
       "0            2NE1_zh.wikipedia.org_all-access_spider        18.0        11.0   \n",
       "1             2PM_zh.wikipedia.org_all-access_spider        11.0        14.0   \n",
       "2              3C_zh.wikipedia.org_all-access_spider         1.0         0.0   \n",
       "3         4minute_zh.wikipedia.org_all-access_spider        35.0        13.0   \n",
       "4  52_Hz_I_Love_You_zh.wikipedia.org_all-access_s...         NaN         NaN   \n",
       "\n",
       "   2015-07-03  2015-07-04  2015-07-05  2015-07-06  2015-07-07  2015-07-08  \\\n",
       "0         5.0        13.0        14.0         9.0         9.0        22.0   \n",
       "1        15.0        18.0        11.0        13.0        22.0        11.0   \n",
       "2         1.0         1.0         0.0         4.0         0.0         3.0   \n",
       "3        10.0        94.0         4.0        26.0        14.0         9.0   \n",
       "4         NaN         NaN         NaN         NaN         NaN         NaN   \n",
       "\n",
       "   2015-07-09  ...  2017-09-01  2017-09-02  2017-09-03  2017-09-04  \\\n",
       "0        26.0  ...        19.0        33.0        33.0        18.0   \n",
       "1        10.0  ...        32.0        30.0        11.0        19.0   \n",
       "2         4.0  ...         6.0         6.0         7.0         2.0   \n",
       "3        11.0  ...         7.0        19.0        19.0         9.0   \n",
       "4         NaN  ...        16.0        16.0        19.0         9.0   \n",
       "\n",
       "   2017-09-05  2017-09-06  2017-09-07  2017-09-08  2017-09-09  2017-09-10  \n",
       "0        16.0        27.0        29.0        23.0        54.0        38.0  \n",
       "1        54.0        25.0        26.0        23.0        13.0        81.0  \n",
       "2         4.0         7.0         3.0         4.0         7.0         6.0  \n",
       "3         6.0        16.0        19.0        30.0        38.0         4.0  \n",
       "4        20.0        23.0        28.0        14.0         8.0         7.0  \n",
       "\n",
       "[5 rows x 804 columns]"
      ]
     },
     "execution_count": 7,
     "metadata": {},
     "output_type": "execute_result"
    }
   ],
   "source": [
    "print(train_2.shape)\n",
    "train_2.head()"
   ]
  },
  {
   "cell_type": "code",
   "execution_count": 8,
   "metadata": {},
   "outputs": [],
   "source": [
    "def split_func(page,k):\n",
    "    p_s = page.split(\"_\")\n",
    "    l = len(p_s)\n",
    "    if k != 0:\n",
    "        return p_s[l-k]\n",
    "    else:\n",
    "        return ' '.join(p_s[:l-2])\n",
    "\n",
    "def get_language(page):\n",
    "    res = re.search('[a-z][a-z].wikipedia.org',page)\n",
    "    if res:\n",
    "        return res[0][0:2]\n",
    "    return 'na'"
   ]
  },
  {
   "cell_type": "code",
   "execution_count": 9,
   "metadata": {},
   "outputs": [
    {
     "data": {
      "text/plain": [
       "\"key_2['date'] = key_2.Page.apply(lambda x: x[-10:])\\nkey_2['Page'] = key_2.Page.apply(lambda x: x[:(len(x)-11)])\\ndate_list= key_2.date.unique().tolist() + train_2.columns[1:].to_list()\""
      ]
     },
     "execution_count": 9,
     "metadata": {},
     "output_type": "execute_result"
    }
   ],
   "source": [
    "'''key_2['date'] = key_2.Page.apply(lambda x: x[-10:])\n",
    "key_2['Page'] = key_2.Page.apply(lambda x: x[:(len(x)-11)])\n",
    "date_list= key_2.date.unique().tolist() + train_2.columns[1:].to_list()'''"
   ]
  },
  {
   "cell_type": "code",
   "execution_count": 10,
   "metadata": {
    "scrolled": true
   },
   "outputs": [
    {
     "data": {
      "text/html": [
       "<div>\n",
       "<style scoped>\n",
       "    .dataframe tbody tr th:only-of-type {\n",
       "        vertical-align: middle;\n",
       "    }\n",
       "\n",
       "    .dataframe tbody tr th {\n",
       "        vertical-align: top;\n",
       "    }\n",
       "\n",
       "    .dataframe thead th {\n",
       "        text-align: right;\n",
       "    }\n",
       "</style>\n",
       "<table border=\"1\" class=\"dataframe\">\n",
       "  <thead>\n",
       "    <tr style=\"text-align: right;\">\n",
       "      <th></th>\n",
       "      <th>date</th>\n",
       "      <th>date_id</th>\n",
       "      <th>month</th>\n",
       "      <th>year</th>\n",
       "      <th>day</th>\n",
       "      <th>weekday</th>\n",
       "      <th>weeknum</th>\n",
       "    </tr>\n",
       "  </thead>\n",
       "  <tbody>\n",
       "    <tr>\n",
       "      <th>0</th>\n",
       "      <td>2015-07-01</td>\n",
       "      <td>0</td>\n",
       "      <td>7</td>\n",
       "      <td>2015</td>\n",
       "      <td>1</td>\n",
       "      <td>2</td>\n",
       "      <td>27</td>\n",
       "    </tr>\n",
       "    <tr>\n",
       "      <th>1</th>\n",
       "      <td>2015-07-02</td>\n",
       "      <td>1</td>\n",
       "      <td>7</td>\n",
       "      <td>2015</td>\n",
       "      <td>2</td>\n",
       "      <td>3</td>\n",
       "      <td>27</td>\n",
       "    </tr>\n",
       "    <tr>\n",
       "      <th>2</th>\n",
       "      <td>2015-07-03</td>\n",
       "      <td>2</td>\n",
       "      <td>7</td>\n",
       "      <td>2015</td>\n",
       "      <td>3</td>\n",
       "      <td>4</td>\n",
       "      <td>27</td>\n",
       "    </tr>\n",
       "    <tr>\n",
       "      <th>3</th>\n",
       "      <td>2015-07-04</td>\n",
       "      <td>3</td>\n",
       "      <td>7</td>\n",
       "      <td>2015</td>\n",
       "      <td>4</td>\n",
       "      <td>5</td>\n",
       "      <td>27</td>\n",
       "    </tr>\n",
       "    <tr>\n",
       "      <th>4</th>\n",
       "      <td>2015-07-05</td>\n",
       "      <td>4</td>\n",
       "      <td>7</td>\n",
       "      <td>2015</td>\n",
       "      <td>5</td>\n",
       "      <td>6</td>\n",
       "      <td>27</td>\n",
       "    </tr>\n",
       "  </tbody>\n",
       "</table>\n",
       "</div>"
      ],
      "text/plain": [
       "        date  date_id  month  year  day  weekday  weeknum\n",
       "0 2015-07-01        0      7  2015    1        2       27\n",
       "1 2015-07-02        1      7  2015    2        3       27\n",
       "2 2015-07-03        2      7  2015    3        4       27\n",
       "3 2015-07-04        3      7  2015    4        5       27\n",
       "4 2015-07-05        4      7  2015    5        6       27"
      ]
     },
     "execution_count": 10,
     "metadata": {},
     "output_type": "execute_result"
    }
   ],
   "source": [
    "date_list = train_2.columns[1:].to_list()\n",
    "date_map =pd.DataFrame(date_list)\n",
    "date_map.columns = ['date']\n",
    "date_map['date'] = pd.to_datetime(date_map['date'])\n",
    "date_map = date_map.sort_values('date').reset_index()\n",
    "date_map['date_id'] = date_map.index\n",
    "date_map.drop('index', axis = 1,  inplace = True)\n",
    "date_map['month'] = date_map['date'].apply(lambda x: x.month)\n",
    "date_map['year'] = date_map['date'].apply(lambda x: x.year)\n",
    "date_map['day'] = date_map['date'].apply(lambda x: x.day)\n",
    "date_map['weekday'] = date_map['date'].apply(lambda x: x.weekday())\n",
    "date_map['weeknum'] = date_map['date'].apply(lambda x: x.isocalendar()[1])\n",
    "date_map['month'] = date_map['month'].astype(np.int8)\n",
    "date_map['year'] = date_map['year'].astype(np.int16)\n",
    "date_map['day'] = date_map['day'].astype(np.int8)\n",
    "date_map['date_id'] = date_map['date_id'].astype(np.int16)\n",
    "\n",
    "date_map.head()"
   ]
  },
  {
   "cell_type": "code",
   "execution_count": 11,
   "metadata": {},
   "outputs": [
    {
     "data": {
      "text/html": [
       "<div>\n",
       "<style scoped>\n",
       "    .dataframe tbody tr th:only-of-type {\n",
       "        vertical-align: middle;\n",
       "    }\n",
       "\n",
       "    .dataframe tbody tr th {\n",
       "        vertical-align: top;\n",
       "    }\n",
       "\n",
       "    .dataframe thead th {\n",
       "        text-align: right;\n",
       "    }\n",
       "</style>\n",
       "<table border=\"1\" class=\"dataframe\">\n",
       "  <thead>\n",
       "    <tr style=\"text-align: right;\">\n",
       "      <th></th>\n",
       "      <th>Page</th>\n",
       "      <th>page_id</th>\n",
       "      <th>agent</th>\n",
       "      <th>access</th>\n",
       "      <th>project</th>\n",
       "      <th>lang</th>\n",
       "      <th>agent_code</th>\n",
       "      <th>access_code</th>\n",
       "      <th>lang_code</th>\n",
       "    </tr>\n",
       "  </thead>\n",
       "  <tbody>\n",
       "    <tr>\n",
       "      <th>0</th>\n",
       "      <td>2NE1_zh.wikipedia.org_all-access_spider</td>\n",
       "      <td>0</td>\n",
       "      <td>spider</td>\n",
       "      <td>all-access</td>\n",
       "      <td>2NE1 zh.wikipedia.org</td>\n",
       "      <td>zh</td>\n",
       "      <td>1</td>\n",
       "      <td>0</td>\n",
       "      <td>7</td>\n",
       "    </tr>\n",
       "    <tr>\n",
       "      <th>1</th>\n",
       "      <td>2PM_zh.wikipedia.org_all-access_spider</td>\n",
       "      <td>1</td>\n",
       "      <td>spider</td>\n",
       "      <td>all-access</td>\n",
       "      <td>2PM zh.wikipedia.org</td>\n",
       "      <td>zh</td>\n",
       "      <td>1</td>\n",
       "      <td>0</td>\n",
       "      <td>7</td>\n",
       "    </tr>\n",
       "    <tr>\n",
       "      <th>2</th>\n",
       "      <td>3C_zh.wikipedia.org_all-access_spider</td>\n",
       "      <td>2</td>\n",
       "      <td>spider</td>\n",
       "      <td>all-access</td>\n",
       "      <td>3C zh.wikipedia.org</td>\n",
       "      <td>zh</td>\n",
       "      <td>1</td>\n",
       "      <td>0</td>\n",
       "      <td>7</td>\n",
       "    </tr>\n",
       "    <tr>\n",
       "      <th>3</th>\n",
       "      <td>4minute_zh.wikipedia.org_all-access_spider</td>\n",
       "      <td>3</td>\n",
       "      <td>spider</td>\n",
       "      <td>all-access</td>\n",
       "      <td>4minute zh.wikipedia.org</td>\n",
       "      <td>zh</td>\n",
       "      <td>1</td>\n",
       "      <td>0</td>\n",
       "      <td>7</td>\n",
       "    </tr>\n",
       "    <tr>\n",
       "      <th>4</th>\n",
       "      <td>52_Hz_I_Love_You_zh.wikipedia.org_all-access_s...</td>\n",
       "      <td>4</td>\n",
       "      <td>spider</td>\n",
       "      <td>all-access</td>\n",
       "      <td>52 Hz I Love You zh.wikipedia.org</td>\n",
       "      <td>zh</td>\n",
       "      <td>1</td>\n",
       "      <td>0</td>\n",
       "      <td>7</td>\n",
       "    </tr>\n",
       "  </tbody>\n",
       "</table>\n",
       "</div>"
      ],
      "text/plain": [
       "                                                Page  page_id   agent  \\\n",
       "0            2NE1_zh.wikipedia.org_all-access_spider        0  spider   \n",
       "1             2PM_zh.wikipedia.org_all-access_spider        1  spider   \n",
       "2              3C_zh.wikipedia.org_all-access_spider        2  spider   \n",
       "3         4minute_zh.wikipedia.org_all-access_spider        3  spider   \n",
       "4  52_Hz_I_Love_You_zh.wikipedia.org_all-access_s...        4  spider   \n",
       "\n",
       "       access                            project lang  agent_code  \\\n",
       "0  all-access              2NE1 zh.wikipedia.org   zh           1   \n",
       "1  all-access               2PM zh.wikipedia.org   zh           1   \n",
       "2  all-access                3C zh.wikipedia.org   zh           1   \n",
       "3  all-access           4minute zh.wikipedia.org   zh           1   \n",
       "4  all-access  52 Hz I Love You zh.wikipedia.org   zh           1   \n",
       "\n",
       "   access_code  lang_code  \n",
       "0            0          7  \n",
       "1            0          7  \n",
       "2            0          7  \n",
       "3            0          7  \n",
       "4            0          7  "
      ]
     },
     "execution_count": 11,
     "metadata": {},
     "output_type": "execute_result"
    }
   ],
   "source": [
    "page_map = pd.DataFrame(train_2.Page.unique())\n",
    "page_map['page_id'] = page_map.index\n",
    "page_map.columns = ['Page','page_id']\n",
    "page_map['agent']= page_map['Page'].apply(lambda x: split_func(x,1))\n",
    "page_map['access']= page_map['Page'].apply(lambda x: split_func(x,2))\n",
    "page_map['project']= page_map['Page'].apply(lambda x: split_func(x,0))\n",
    "page_map['lang']= page_map['Page'].apply(lambda x: get_language(x))\n",
    "page_map['agent_code'] = LabelEncoder().fit_transform(page_map.agent)\n",
    "page_map['access_code'] = LabelEncoder().fit_transform(page_map.access)\n",
    "page_map['lang_code'] = LabelEncoder().fit_transform(page_map.lang)\n",
    "page_map['agent_code'] = page_map.agent_code.astype(np.int8)\n",
    "page_map['access_code'] = page_map.access_code.astype(np.int8)\n",
    "page_map['lang_code'] = page_map.lang_code.astype(np.int8)\n",
    "\n",
    "#key_2 = pd.merge( key_2, page_map, on = 'Page', how = 'left')\n",
    "#key_2.drop('Page', axis = 1, inplace = True)\n",
    "page_map.head()"
   ]
  },
  {
   "cell_type": "code",
   "execution_count": 12,
   "metadata": {
    "scrolled": true
   },
   "outputs": [
    {
     "name": "stdout",
     "output_type": "stream",
     "text": [
      "0\n",
      "<class 'pandas.core.frame.DataFrame'>\n",
      "Int64Index: 240900 entries, 0 to 240899\n",
      "Columns: 11 entries, page_id to lang_code\n",
      "dtypes: float64(1), int16(2), int64(3), int8(5)\n",
      "memory usage: 11.3 MB\n",
      "None\n"
     ]
    },
    {
     "data": {
      "text/html": [
       "<div>\n",
       "<style scoped>\n",
       "    .dataframe tbody tr th:only-of-type {\n",
       "        vertical-align: middle;\n",
       "    }\n",
       "\n",
       "    .dataframe tbody tr th {\n",
       "        vertical-align: top;\n",
       "    }\n",
       "\n",
       "    .dataframe thead th {\n",
       "        text-align: right;\n",
       "    }\n",
       "</style>\n",
       "<table border=\"1\" class=\"dataframe\">\n",
       "  <thead>\n",
       "    <tr style=\"text-align: right;\">\n",
       "      <th></th>\n",
       "      <th>page_id</th>\n",
       "      <th>visits</th>\n",
       "      <th>date_id</th>\n",
       "      <th>month</th>\n",
       "      <th>year</th>\n",
       "      <th>day</th>\n",
       "      <th>weekday</th>\n",
       "      <th>weeknum</th>\n",
       "      <th>agent_code</th>\n",
       "      <th>access_code</th>\n",
       "      <th>lang_code</th>\n",
       "    </tr>\n",
       "  </thead>\n",
       "  <tbody>\n",
       "    <tr>\n",
       "      <th>0</th>\n",
       "      <td>0</td>\n",
       "      <td>18.0</td>\n",
       "      <td>0</td>\n",
       "      <td>7</td>\n",
       "      <td>2015</td>\n",
       "      <td>1</td>\n",
       "      <td>2</td>\n",
       "      <td>27</td>\n",
       "      <td>1</td>\n",
       "      <td>0</td>\n",
       "      <td>7</td>\n",
       "    </tr>\n",
       "    <tr>\n",
       "      <th>1</th>\n",
       "      <td>1</td>\n",
       "      <td>11.0</td>\n",
       "      <td>0</td>\n",
       "      <td>7</td>\n",
       "      <td>2015</td>\n",
       "      <td>1</td>\n",
       "      <td>2</td>\n",
       "      <td>27</td>\n",
       "      <td>1</td>\n",
       "      <td>0</td>\n",
       "      <td>7</td>\n",
       "    </tr>\n",
       "    <tr>\n",
       "      <th>2</th>\n",
       "      <td>2</td>\n",
       "      <td>1.0</td>\n",
       "      <td>0</td>\n",
       "      <td>7</td>\n",
       "      <td>2015</td>\n",
       "      <td>1</td>\n",
       "      <td>2</td>\n",
       "      <td>27</td>\n",
       "      <td>1</td>\n",
       "      <td>0</td>\n",
       "      <td>7</td>\n",
       "    </tr>\n",
       "    <tr>\n",
       "      <th>3</th>\n",
       "      <td>3</td>\n",
       "      <td>35.0</td>\n",
       "      <td>0</td>\n",
       "      <td>7</td>\n",
       "      <td>2015</td>\n",
       "      <td>1</td>\n",
       "      <td>2</td>\n",
       "      <td>27</td>\n",
       "      <td>1</td>\n",
       "      <td>0</td>\n",
       "      <td>7</td>\n",
       "    </tr>\n",
       "    <tr>\n",
       "      <th>4</th>\n",
       "      <td>4</td>\n",
       "      <td>NaN</td>\n",
       "      <td>0</td>\n",
       "      <td>7</td>\n",
       "      <td>2015</td>\n",
       "      <td>1</td>\n",
       "      <td>2</td>\n",
       "      <td>27</td>\n",
       "      <td>1</td>\n",
       "      <td>0</td>\n",
       "      <td>7</td>\n",
       "    </tr>\n",
       "  </tbody>\n",
       "</table>\n",
       "</div>"
      ],
      "text/plain": [
       "   page_id  visits  date_id  month  year  day  weekday  weeknum  agent_code  \\\n",
       "0        0    18.0        0      7  2015    1        2       27           1   \n",
       "1        1    11.0        0      7  2015    1        2       27           1   \n",
       "2        2     1.0        0      7  2015    1        2       27           1   \n",
       "3        3    35.0        0      7  2015    1        2       27           1   \n",
       "4        4     NaN        0      7  2015    1        2       27           1   \n",
       "\n",
       "   access_code  lang_code  \n",
       "0            0          7  \n",
       "1            0          7  \n",
       "2            0          7  \n",
       "3            0          7  \n",
       "4            0          7  "
      ]
     },
     "execution_count": 12,
     "metadata": {},
     "output_type": "execute_result"
    }
   ],
   "source": [
    "train_2 = pd.merge(train_2, page_map[['Page','page_id']], on = 'Page', how = 'left')\n",
    "train_2.drop('Page',axis = 1, inplace = True)\n",
    "\n",
    "train_2 = train_2[train_2.page_id < 300] #filtering for efficient proecessing\n",
    "\n",
    "train_2 = pd.melt(train_2, \n",
    "    id_vars =['page_id'],\n",
    "        value_vars = train_2.columns[:-1],\n",
    "           var_name = 'date',\n",
    "             value_name = 'visits')\n",
    "\n",
    "train_2['date'] = pd.to_datetime(train_2.date)\n",
    "train_2 = pd.merge(train_2, date_map, on  = 'date', how = 'left')\n",
    "train_2.drop('date', axis = 1, inplace = True)\n",
    "train_2['date_id'] = train_2.date_id.astype(np.int16)\n",
    "train_2 = pd.merge(train_2, page_map[['page_id','agent_code','access_code','lang_code']], on = 'page_id', how = 'left')\n",
    "print(train_2.date_id.isnull().sum())\n",
    "print(train_2.info(verbose=False, memory_usage=\"deep\"))\n",
    "train_2.head()"
   ]
  },
  {
   "cell_type": "code",
   "execution_count": 13,
   "metadata": {},
   "outputs": [
    {
     "data": {
      "text/plain": [
       "\"key_2 = key_2.sort_values(['page_id','date_id','day'])\\nkey = key_2[['Id','page_id','date_id']]\\nkey_2.drop('Id', axis = 1, inplace = True)\""
      ]
     },
     "execution_count": 13,
     "metadata": {},
     "output_type": "execute_result"
    }
   ],
   "source": [
    "#key_2.info(verbose=False, memory_usage=\"deep\")\n",
    "\n",
    "'''key_2 = key_2.sort_values(['page_id','date_id','day'])\n",
    "key = key_2[['Id','page_id','date_id']]\n",
    "key_2.drop('Id', axis = 1, inplace = True)'''"
   ]
  },
  {
   "cell_type": "code",
   "execution_count": 14,
   "metadata": {},
   "outputs": [
    {
     "data": {
      "text/plain": [
       "<matplotlib.axes._subplots.AxesSubplot at 0x1f8cdf94128>"
      ]
     },
     "execution_count": 14,
     "metadata": {},
     "output_type": "execute_result"
    },
    {
     "data": {
      "image/png": "[encoded data removed]",
      "text/plain": [
       "<Figure size 1152x288 with 1 Axes>"
      ]
     },
     "metadata": {
      "needs_background": "light"
     },
     "output_type": "display_data"
    }
   ],
   "source": [
    "p_id = 115\n",
    "plt.figure(figsize = (16,4))\n",
    "sn.lineplot('date_id', 'visits', data = train_2[train_2.page_id == p_id])"
   ]
  },
  {
   "cell_type": "code",
   "execution_count": 15,
   "metadata": {},
   "outputs": [
    {
     "data": {
      "text/plain": [
       "<matplotlib.axes._subplots.AxesSubplot at 0x1f880496240>"
      ]
     },
     "execution_count": 15,
     "metadata": {},
     "output_type": "execute_result"
    },
    {
     "data": {
      "image/png": "[encoded data removed]",
      "text/plain": [
       "<Figure size 1152x288 with 1 Axes>"
      ]
     },
     "metadata": {
      "needs_background": "light"
     },
     "output_type": "display_data"
    }
   ],
   "source": [
    "group = train_2.groupby(['date_id']).agg({'visits':'sum'})\n",
    "group.columns = ['mean_visits_date']\n",
    "group.reset_index (inplace = True)\n",
    "\n",
    "plt.figure(figsize = (16,4))\n",
    "sn.lineplot('date_id', 'mean_visits_date', data = group)"
   ]
  },
  {
   "cell_type": "code",
   "execution_count": 16,
   "metadata": {},
   "outputs": [
    {
     "data": {
      "text/plain": [
       "<matplotlib.axes._subplots.AxesSubplot at 0x1f88053e128>"
      ]
     },
     "execution_count": 16,
     "metadata": {},
     "output_type": "execute_result"
    },
    {
     "data": {
      "image/png": "[encoded data removed]",
      "text/plain": [
       "<Figure size 1152x288 with 1 Axes>"
      ]
     },
     "metadata": {
      "needs_background": "light"
     },
     "output_type": "display_data"
    }
   ],
   "source": [
    "p_id = 115\n",
    "plt.figure(figsize = (16,4))\n",
    "sn.boxplot('visits', data = train_2[train_2.page_id == p_id])"
   ]
  },
  {
   "cell_type": "code",
   "execution_count": 17,
   "metadata": {},
   "outputs": [
    {
     "data": {
      "text/plain": [
       "\"key_2['date'] = pd.to_datetime(key_2['date'])\\nkey_2 = pd.merge(key_2, date_map, on = 'date', how = 'left')\\nkey_2.drop('date', axis = 1, inplace = True)\\nkey_2 = pd.merge(key_2, page_map, on = 'Page', how = 'left')\\nkey_2.drop(['Page','agent','access','project','lang'], axis =1, inplace = True)\""
      ]
     },
     "execution_count": 17,
     "metadata": {},
     "output_type": "execute_result"
    }
   ],
   "source": [
    "#test set\n",
    "\n",
    "'''key_2['date'] = pd.to_datetime(key_2['date'])\n",
    "key_2 = pd.merge(key_2, date_map, on = 'date', how = 'left')\n",
    "key_2.drop('date', axis = 1, inplace = True)\n",
    "key_2 = pd.merge(key_2, page_map, on = 'Page', how = 'left')\n",
    "key_2.drop(['Page','agent','access','project','lang'], axis =1, inplace = True)'''"
   ]
  },
  {
   "cell_type": "markdown",
   "metadata": {},
   "source": [
    "## Missing values "
   ]
  },
  {
   "cell_type": "code",
   "execution_count": 18,
   "metadata": {},
   "outputs": [
    {
     "name": "stdout",
     "output_type": "stream",
     "text": [
      "<class 'pandas.core.frame.DataFrame'>\n",
      "Int64Index: 240900 entries, 0 to 240899\n",
      "Columns: 11 entries, page_id to lang_code\n",
      "dtypes: int16(2), int32(1), int64(3), int8(5)\n",
      "memory usage: 10.3 MB\n",
      "None\n",
      "page_id        0\n",
      "visits         0\n",
      "date_id        0\n",
      "month          0\n",
      "year           0\n",
      "day            0\n",
      "weekday        0\n",
      "weeknum        0\n",
      "agent_code     0\n",
      "access_code    0\n",
      "lang_code      0\n",
      "dtype: int64\n"
     ]
    }
   ],
   "source": [
    "'''group = train_2.groupby(['page_id'])['visits'].agg({'visits': 'mean'})\n",
    "group.columns = ['mean_visits']\n",
    "group.reset_index(inplace = True)\n",
    "'''\n",
    "#train_2['visits'] = train_2.groupby(['page_id']).transform(lambda x: x.fillna(x.mean()))\n",
    "train_2['visits'] = train_2.groupby(['page_id']).transform(lambda x: x.fillna(x.median()))\n",
    "\n",
    "#train_2.fillna(0, inplace = True)\n",
    "train_2['visits'] = train_2.visits.astype(np.int32)\n",
    "print(train_2.info(verbose=False, memory_usage=\"deep\"))\n",
    "print(train_2.isnull().sum())"
   ]
  },
  {
   "cell_type": "code",
   "execution_count": 19,
   "metadata": {},
   "outputs": [],
   "source": [
    "group = train_2.groupby(['agent_code']).agg({'visits':'median'})\n",
    "group.columns = ['median_visits_agent_code']\n",
    "group.reset_index (inplace = True)\n",
    "train_2 = pd.merge(train_2, group, on = 'agent_code', how = 'left')\n",
    "#key_2 = pd.merge(key_2, group, on = 'agent_code', how = 'left')\n",
    "train_2['median_visits_agent_code'] = train_2.median_visits_agent_code.astype(np.float32)\n",
    "#key_2['median_visits_agent_code'] = key_2.median_visits_agent_code.astype(np.float32)"
   ]
  },
  {
   "cell_type": "code",
   "execution_count": 20,
   "metadata": {},
   "outputs": [],
   "source": [
    "group = train_2.groupby(['access_code']).agg({'visits':'median'})\n",
    "group.columns = ['median_visits_access_code']\n",
    "group.reset_index (inplace = True)\n",
    "train_2 = pd.merge(train_2, group, on = 'access_code', how = 'left')\n",
    "#key_2 = pd.merge(key_2, group, on = 'access_code', how = 'left')\n",
    "train_2['median_visits_access_code'] = train_2.median_visits_access_code.astype(np.float32)\n",
    "#key_2['median_visits_access_code'] = key_2.median_visits_access_code.astype(np.float32)"
   ]
  },
  {
   "cell_type": "code",
   "execution_count": 21,
   "metadata": {},
   "outputs": [],
   "source": [
    "group = train_2.groupby(['lang_code']).agg({'visits':'median'})\n",
    "group.columns = ['median_visits_lang_code']\n",
    "group.reset_index (inplace = True)\n",
    "train_2 = pd.merge(train_2, group, on = 'lang_code', how = 'left')\n",
    "#key_2 = pd.merge(key_2, group, on = 'lang_code', how = 'left')\n",
    "train_2['median_visits_lang_code'] = train_2.median_visits_lang_code.astype(np.float32)\n",
    "#key_2['median_visits_lang_code'] = key_2.median_visits_lang_code.astype(np.float32)"
   ]
  },
  {
   "cell_type": "code",
   "execution_count": 22,
   "metadata": {},
   "outputs": [],
   "source": [
    "group = train_2.groupby(['month']).agg({'visits':'mean'})\n",
    "group.columns = ['mean_visits_month']\n",
    "group.reset_index (inplace = True)\n",
    "train_2 = pd.merge(train_2, group, on = 'month', how = 'left')\n",
    "#key_2 = pd.merge(key_2, group, on = 'month', how = 'left')\n",
    "train_2['mean_visits_month'] = train_2.mean_visits_month.astype(np.float32)\n",
    "#key_2['mean_visits_month'] = key_2.mean_visits_month.astype(np.float32)"
   ]
  },
  {
   "cell_type": "code",
   "execution_count": 23,
   "metadata": {},
   "outputs": [],
   "source": [
    "group = train_2.groupby(['month', 'lang_code']).agg({'visits':'mean'})\n",
    "group.columns = ['mean_visits_month_lang']\n",
    "group.reset_index (inplace = True)\n",
    "train_2 = pd.merge(train_2, group, on = ['month', 'lang_code'], how = 'left')\n",
    "#key_2 = pd.merge(key_2, group, on = 'month', how = 'left')\n",
    "train_2['mean_visits_month_lang'] = train_2.mean_visits_month_lang.astype(np.float32)\n",
    "#key_2['mean_visits_month_lang'] = key_2.mean_visits_month_lang.astype(np.float32)"
   ]
  },
  {
   "cell_type": "code",
   "execution_count": 24,
   "metadata": {},
   "outputs": [],
   "source": [
    "group = train_2.groupby(['page_id']).agg({'visits':'mean'})\n",
    "group.columns = ['mean_visits_page']\n",
    "group.reset_index (inplace = True)\n",
    "train_2 = pd.merge(train_2, group, on = ['page_id'], how = 'left')\n",
    "#key_2 = pd.merge(key_2, group, on = 'month', how = 'left')\n",
    "train_2['mean_visits_page'] = train_2.mean_visits_page.astype(np.float32)\n",
    "#key_2['mean_visits_month_lang'] = key_2.mean_visits_month_lang.astype(np.float32)"
   ]
  },
  {
   "cell_type": "code",
   "execution_count": 25,
   "metadata": {},
   "outputs": [],
   "source": [
    "group = train_2.groupby(['page_id','month']).agg({'visits':'mean'})\n",
    "group.columns = ['mean_visits_page_month']\n",
    "group.reset_index (inplace = True)\n",
    "train_2 = pd.merge(train_2, group, on = ['page_id', 'month'], how = 'left')\n",
    "#key_2 = pd.merge(key_2, group, on = 'month', how = 'left')\n",
    "train_2['mean_visits_page_month'] = train_2.mean_visits_page_month.astype(np.float32)\n",
    "#key_2['mean_visits_month_lang'] = key_2.mean_visits_month_lang.astype(np.float32)"
   ]
  },
  {
   "cell_type": "code",
   "execution_count": 26,
   "metadata": {},
   "outputs": [],
   "source": [
    "group = train_2.groupby(['access_code','month']).agg({'visits':'mean'})\n",
    "group.columns = ['mean_visits_access_month']\n",
    "group.reset_index (inplace = True)\n",
    "train_2 = pd.merge(train_2, group, on = ['access_code','month'], how = 'left')\n",
    "#key_2 = pd.merge(key_2, group, on = 'month', how = 'left')\n",
    "train_2['mean_visits_access_month'] = train_2.mean_visits_access_month.astype(np.float32)\n",
    "#key_2['mean_visits_month_lang'] = key_2.mean_visits_month_lang.astype(np.float32)"
   ]
  },
  {
   "cell_type": "code",
   "execution_count": 27,
   "metadata": {},
   "outputs": [],
   "source": [
    "group = train_2.groupby(['agent_code','month']).agg({'visits':'mean'})\n",
    "group.columns = ['mean_visits_agent_month']\n",
    "group.reset_index (inplace = True)\n",
    "train_2 = pd.merge(train_2, group, on = ['agent_code','month'], how = 'left')\n",
    "#key_2 = pd.merge(key_2, group, on = 'month', how = 'left')\n",
    "train_2['mean_visits_agent_month'] = train_2.mean_visits_agent_month.astype(np.float32)"
   ]
  },
  {
   "cell_type": "code",
   "execution_count": 28,
   "metadata": {},
   "outputs": [],
   "source": [
    "group = train_2.groupby(['page_id','weekday']).agg({'visits':'mean'})\n",
    "group.columns = ['mean_visits_page_week']\n",
    "group.reset_index (inplace = True)\n",
    "train_2 = pd.merge(train_2, group, on = ['page_id', 'weekday'], how = 'left')\n",
    "#key_2 = pd.merge(key_2, group, on = 'month', how = 'left')\n",
    "train_2['mean_visits_page_week'] = train_2.mean_visits_page_week.astype(np.float32)\n",
    "#key_2['mean_visits_month_lang'] = key_2.mean_visits_month_lang.astype(np.float32)"
   ]
  },
  {
   "cell_type": "code",
   "execution_count": 29,
   "metadata": {},
   "outputs": [],
   "source": [
    "group = train_2.groupby(['page_id','weeknum']).agg({'visits':'mean'})\n",
    "group.columns = ['mean_visits_page_weeknum']\n",
    "group.reset_index (inplace = True)\n",
    "train_2 = pd.merge(train_2, group, on = ['page_id', 'weeknum'], how = 'left')\n",
    "#key_2 = pd.merge(key_2, group, on = 'month', how = 'left')\n",
    "train_2['mean_visits_page_weeknum'] = train_2.mean_visits_page_weeknum.astype(np.float32)\n",
    "#key_2['mean_visits_month_lang'] = key_2.mean_visits_month_lang.astype(np.float32)"
   ]
  },
  {
   "cell_type": "code",
   "execution_count": 30,
   "metadata": {},
   "outputs": [],
   "source": [
    "group = train_2.groupby(['agent_code']).agg({'visits':'mean'})\n",
    "group.columns = ['mean_visits_agent_code']\n",
    "group.reset_index (inplace = True)\n",
    "train_2 = pd.merge(train_2, group, on = 'agent_code', how = 'left')\n",
    "#key_2 = pd.merge(key_2, group, on = 'agent_code', how = 'left')\n",
    "train_2['mean_visits_agent_code'] = train_2.mean_visits_agent_code.astype(np.float32)\n",
    "#key_2['mean_visits_agent_code'] = key_2.mean_visits_agent_code.astype(np.float32)"
   ]
  },
  {
   "cell_type": "code",
   "execution_count": 31,
   "metadata": {},
   "outputs": [],
   "source": [
    "group = train_2.groupby(['access_code']).agg({'visits':'mean'})\n",
    "group.columns = ['mean_visits_access_code']\n",
    "group.reset_index (inplace = True)\n",
    "train_2 = pd.merge(train_2, group, on = 'access_code', how = 'left')\n",
    "#key_2 = pd.merge(key_2, group, on = 'access_code', how = 'left')\n",
    "train_2['mean_visits_access_code'] = train_2.mean_visits_access_code.astype(np.float32)\n",
    "#key_2['mean_visits_access_code'] = key_2.mean_visits_access_code.astype(np.float32)"
   ]
  },
  {
   "cell_type": "code",
   "execution_count": 32,
   "metadata": {},
   "outputs": [],
   "source": [
    "group = train_2.groupby(['lang_code']).agg({'visits':'mean'})\n",
    "group.columns = ['mean_visits_lang_code']\n",
    "group.reset_index (inplace = True)\n",
    "train_2 = pd.merge(train_2, group, on = 'lang_code', how = 'left')\n",
    "#key_2 = pd.merge(key_2, group, on = 'lang_code', how = 'left')\n",
    "train_2['mean_visits_lang_code'] = train_2.mean_visits_lang_code.astype(np.float32)\n",
    "#key_2['mean_visits_lang_code'] = key_2.mean_visits_lang_code.astype(np.float32)"
   ]
  },
  {
   "cell_type": "code",
   "execution_count": 33,
   "metadata": {},
   "outputs": [],
   "source": [
    "group = train_2.groupby(['month']).agg({'visits':'median'})\n",
    "group.columns = ['median_visits_month']\n",
    "group.reset_index (inplace = True)\n",
    "train_2 = pd.merge(train_2, group, on = 'month', how = 'left')\n",
    "#key_2 = pd.merge(key_2, group, on = 'month', how = 'left')\n",
    "train_2['median_visits_month'] = train_2.median_visits_month.astype(np.float32)\n",
    "#key_2['median_visits_month'] = key_2.median_visits_month.astype(np.float32)"
   ]
  },
  {
   "cell_type": "code",
   "execution_count": 34,
   "metadata": {},
   "outputs": [],
   "source": [
    "group = train_2.groupby(['month', 'lang_code']).agg({'visits':'median'})\n",
    "group.columns = ['median_visits_month_lang']\n",
    "group.reset_index (inplace = True)\n",
    "train_2 = pd.merge(train_2, group, on = ['month', 'lang_code'], how = 'left')\n",
    "#key_2 = pd.merge(key_2, group, on = 'month', how = 'left')\n",
    "train_2['median_visits_month_lang'] = train_2.median_visits_month_lang.astype(np.float32)\n",
    "#key_2['median_visits_month_lang'] = key_2.median_visits_month_lang.astype(np.float32)"
   ]
  },
  {
   "cell_type": "code",
   "execution_count": 35,
   "metadata": {},
   "outputs": [],
   "source": [
    "group = train_2.groupby(['page_id']).agg({'visits':'median'})\n",
    "group.columns = ['median_visits_page']\n",
    "group.reset_index (inplace = True)\n",
    "train_2 = pd.merge(train_2, group, on = ['page_id'], how = 'left')\n",
    "#key_2 = pd.merge(key_2, group, on = 'month', how = 'left')\n",
    "train_2['median_visits_page'] = train_2.median_visits_page.astype(np.float32)\n",
    "#key_2['median_visits_month_lang'] = key_2.median_visits_month_lang.astype(np.float32)"
   ]
  },
  {
   "cell_type": "code",
   "execution_count": 36,
   "metadata": {},
   "outputs": [],
   "source": [
    "group = train_2.groupby(['page_id','month']).agg({'visits':'median'})\n",
    "group.columns = ['median_visits_page_month']\n",
    "group.reset_index (inplace = True)\n",
    "train_2 = pd.merge(train_2, group, on = ['page_id', 'month'], how = 'left')\n",
    "#key_2 = pd.merge(key_2, group, on = 'month', how = 'left')\n",
    "train_2['median_visits_page_month'] = train_2.median_visits_page_month.astype(np.float32)\n",
    "#key_2['median_visits_month_lang'] = key_2.median_visits_month_lang.astype(np.float32)"
   ]
  },
  {
   "cell_type": "code",
   "execution_count": 37,
   "metadata": {},
   "outputs": [],
   "source": [
    "group = train_2.groupby(['access_code','month']).agg({'visits':'median'})\n",
    "group.columns = ['median_visits_access_month']\n",
    "group.reset_index (inplace = True)\n",
    "train_2 = pd.merge(train_2, group, on = ['access_code','month'], how = 'left')\n",
    "#key_2 = pd.merge(key_2, group, on = 'month', how = 'left')\n",
    "train_2['median_visits_access_month'] = train_2.median_visits_access_month.astype(np.float32)\n",
    "#key_2['median_visits_month_lang'] = key_2.median_visits_month_lang.astype(np.float32)"
   ]
  },
  {
   "cell_type": "code",
   "execution_count": 38,
   "metadata": {},
   "outputs": [],
   "source": [
    "group = train_2.groupby(['agent_code','month']).agg({'visits':'median'})\n",
    "group.columns = ['median_visits_agent_month']\n",
    "group.reset_index (inplace = True)\n",
    "train_2 = pd.merge(train_2, group, on = ['agent_code','month'], how = 'left')\n",
    "#key_2 = pd.merge(key_2, group, on = 'month', how = 'left')\n",
    "train_2['median_visits_agent_month'] = train_2.median_visits_agent_month.astype(np.float32)"
   ]
  },
  {
   "cell_type": "code",
   "execution_count": 39,
   "metadata": {},
   "outputs": [],
   "source": [
    "group = train_2.groupby(['page_id','weekday']).agg({'visits':'median'})\n",
    "group.columns = ['median_visits_page_week']\n",
    "group.reset_index (inplace = True)\n",
    "train_2 = pd.merge(train_2, group, on = ['page_id', 'weekday'], how = 'left')\n",
    "#key_2 = pd.merge(key_2, group, on = 'month', how = 'left')\n",
    "train_2['median_visits_page_week'] = train_2.median_visits_page_week.astype(np.float32)\n",
    "#key_2['median_visits_month_lang'] = key_2.median_visits_month_lang.astype(np.float32)"
   ]
  },
  {
   "cell_type": "code",
   "execution_count": 40,
   "metadata": {},
   "outputs": [],
   "source": [
    "group = train_2.groupby(['page_id','weeknum']).agg({'visits':'median'})\n",
    "group.columns = ['median_visits_page_weeknum']\n",
    "group.reset_index (inplace = True)\n",
    "train_2 = pd.merge(train_2, group, on = ['page_id', 'weeknum'], how = 'left')\n",
    "#key_2 = pd.merge(key_2, group, on = 'month', how = 'left')\n",
    "train_2['median_visits_page_weeknum'] = train_2.median_visits_page_weeknum.astype(np.float32)\n",
    "#key_2['median_visits_month_lang'] = key_2.median_visits_month_lang.astype(np.float32)"
   ]
  },
  {
   "cell_type": "code",
   "execution_count": 41,
   "metadata": {},
   "outputs": [],
   "source": [
    "year_dict = {2015: 0,\n",
    "             2016: 1,\n",
    "            2017: 2 }\n",
    "train_2['year_num'] = train_2.year.map(year_dict)\n"
   ]
  },
  {
   "cell_type": "code",
   "execution_count": 42,
   "metadata": {},
   "outputs": [],
   "source": [
    "x_train = train_2[(train_2.date_id <= 700)].drop(['visits'], axis = 1)\n",
    "y_train = train_2[(train_2.date_id <= 700)]['visits']\n",
    "\n",
    "x_valid = train_2[train_2.date_id > 700].drop(['visits'], axis = 1)\n",
    "y_valid = train_2[train_2.date_id > 700]['visits']"
   ]
  },
  {
   "cell_type": "code",
   "execution_count": null,
   "metadata": {
    "scrolled": true
   },
   "outputs": [],
   "source": [
    "#from sklearn.model_selection import GridSearchCV\n",
    "\n",
    "smape_list = []\n",
    "#learning_rate = [0.1,0.2,0.3]\n",
    "#subsample = [0.6,0.7,0.8]\n",
    "#max_depth = [3,4,5,6,7]\n",
    "\n",
    "\n",
    "xgb1 = XGBRegressor(\n",
    "            max_depth=7,\n",
    "            n_estimators=1000,\n",
    "            min_child_weight=300, \n",
    "            colsample_bytree=0.8, \n",
    "            subsample=0.8, \n",
    "            eta=0.1,    \n",
    "            seed=42\n",
    "        )\n",
    "\n",
    "xgb1.fit(x_train,y_train)\n",
    "\n",
    "y_pred =  xgb1.predict(x_valid)\n",
    "smape(y_valid, y_pred)\n",
    "#smape_list.append([smape])\n",
    "#smape"
   ]
  },
  {
   "cell_type": "code",
   "execution_count": 48,
   "metadata": {},
   "outputs": [
    {
     "data": {
      "text/plain": [
       "142.81167150213477"
      ]
     },
     "execution_count": 48,
     "metadata": {},
     "output_type": "execute_result"
    }
   ],
   "source": [
    "from sklearn.linear_model import LinearRegression\n",
    "\n",
    "lm = LinearRegression(normalize = True, \n",
    "                     n_jobs = 100)\n",
    "lm.fit(x_train, y_train)\n",
    "y_pred = lm.predict(x_valid)\n",
    "smape(y_valid, y_pred)"
   ]
  },
  {
   "cell_type": "code",
   "execution_count": 59,
   "metadata": {
    "scrolled": true
   },
   "outputs": [
    {
     "name": "stdout",
     "output_type": "stream",
     "text": [
      "Wall time: 2.12 s\n"
     ]
    },
    {
     "data": {
      "text/plain": [
       "47.627982315861146"
      ]
     },
     "execution_count": 59,
     "metadata": {},
     "output_type": "execute_result"
    }
   ],
   "source": [
    "%%time\n",
    "\n",
    "from lightgbm import LGBMRegressor\n",
    "\n",
    "hyper_params = {\n",
    "    'task': 'train',\n",
    "    'boosting_type': 'gbdt',\n",
    "    'objective': 'regression',\n",
    "   'metric': ['auc'],\n",
    "    'learning_rate': 0.005,\n",
    "    'feature_fraction': 0.9,\n",
    "    'bagging_fraction': 0.7,\n",
    "    'bagging_freq': 10,\n",
    "    'verbose': 0,\n",
    "    \"max_depth\": 8,\n",
    "    \"num_leaves\": 12,  \n",
    "    \"max_bin\": 512,\n",
    "    \"num_iterations\": 1000\n",
    "}\n",
    "\n",
    "lgbm = LGBMRegressor()\n",
    "\n",
    "lgbm.fit(x_train, y_train)\n",
    "y_pred = lgbm.predict(x_valid)\n",
    "smape(y_valid, y_pred)"
   ]
  },
  {
   "cell_type": "code",
   "execution_count": 68,
   "metadata": {},
   "outputs": [
    {
     "name": "stdout",
     "output_type": "stream",
     "text": [
      "140.30136605373576\n",
      "138.13005618599271\n",
      "136.21894305599076\n",
      "134.5775678520325\n",
      "133.13600994721787\n",
      "131.87330205740273\n",
      "130.7614439390982\n",
      "129.7689029945785\n",
      "128.87155605280125\n"
     ]
    }
   ],
   "source": [
    "from sklearn.linear_model import Ridge\n",
    "\n",
    "for alpha in [0.1,0.2,0.3,0.4,0.5,0.6,0.7,0.8,0.9]:\n",
    "    lm = Ridge(alpha = alpha)\n",
    "    lm.fit(x_train, y_train)\n",
    "    y_pred = lm.predict(x_valid)\n",
    "    print(smape(y_valid, y_pred))"
   ]
  },
  {
   "cell_type": "code",
   "execution_count": 69,
   "metadata": {
    "scrolled": true
   },
   "outputs": [
    {
     "name": "stderr",
     "output_type": "stream",
     "text": [
      "C:\\Users\\apathak\\AppData\\Local\\Continuum\\anaconda3\\lib\\site-packages\\sklearn\\linear_model\\coordinate_descent.py:475: ConvergenceWarning: Objective did not converge. You might want to increase the number of iterations. Duality gap: 1450127765.3050518, tolerance: 2504020.926071162\n",
      "  positive)\n"
     ]
    },
    {
     "name": "stdout",
     "output_type": "stream",
     "text": [
      "113.05384472888603\n"
     ]
    },
    {
     "name": "stderr",
     "output_type": "stream",
     "text": [
      "C:\\Users\\apathak\\AppData\\Local\\Continuum\\anaconda3\\lib\\site-packages\\sklearn\\linear_model\\coordinate_descent.py:475: ConvergenceWarning: Objective did not converge. You might want to increase the number of iterations. Duality gap: 440649552.8207836, tolerance: 2504020.926071162\n",
      "  positive)\n"
     ]
    },
    {
     "name": "stdout",
     "output_type": "stream",
     "text": [
      "112.78996061652396\n"
     ]
    },
    {
     "name": "stderr",
     "output_type": "stream",
     "text": [
      "C:\\Users\\apathak\\AppData\\Local\\Continuum\\anaconda3\\lib\\site-packages\\sklearn\\linear_model\\coordinate_descent.py:475: ConvergenceWarning: Objective did not converge. You might want to increase the number of iterations. Duality gap: 176797676.7308197, tolerance: 2504020.926071162\n",
      "  positive)\n"
     ]
    },
    {
     "name": "stdout",
     "output_type": "stream",
     "text": [
      "112.52422654402521\n"
     ]
    },
    {
     "name": "stderr",
     "output_type": "stream",
     "text": [
      "C:\\Users\\apathak\\AppData\\Local\\Continuum\\anaconda3\\lib\\site-packages\\sklearn\\linear_model\\coordinate_descent.py:475: ConvergenceWarning: Objective did not converge. You might want to increase the number of iterations. Duality gap: 86666958.61997032, tolerance: 2504020.926071162\n",
      "  positive)\n"
     ]
    },
    {
     "name": "stdout",
     "output_type": "stream",
     "text": [
      "112.25647665416922\n"
     ]
    },
    {
     "name": "stderr",
     "output_type": "stream",
     "text": [
      "C:\\Users\\apathak\\AppData\\Local\\Continuum\\anaconda3\\lib\\site-packages\\sklearn\\linear_model\\coordinate_descent.py:475: ConvergenceWarning: Objective did not converge. You might want to increase the number of iterations. Duality gap: 48582174.70100975, tolerance: 2504020.926071162\n",
      "  positive)\n"
     ]
    },
    {
     "name": "stdout",
     "output_type": "stream",
     "text": [
      "111.98748046590329\n"
     ]
    },
    {
     "name": "stderr",
     "output_type": "stream",
     "text": [
      "C:\\Users\\apathak\\AppData\\Local\\Continuum\\anaconda3\\lib\\site-packages\\sklearn\\linear_model\\coordinate_descent.py:475: ConvergenceWarning: Objective did not converge. You might want to increase the number of iterations. Duality gap: 30275642.700206757, tolerance: 2504020.926071162\n",
      "  positive)\n"
     ]
    },
    {
     "name": "stdout",
     "output_type": "stream",
     "text": [
      "111.78724215036746\n"
     ]
    },
    {
     "name": "stderr",
     "output_type": "stream",
     "text": [
      "C:\\Users\\apathak\\AppData\\Local\\Continuum\\anaconda3\\lib\\site-packages\\sklearn\\linear_model\\coordinate_descent.py:475: ConvergenceWarning: Objective did not converge. You might want to increase the number of iterations. Duality gap: 20374109.262599945, tolerance: 2504020.926071162\n",
      "  positive)\n"
     ]
    },
    {
     "name": "stdout",
     "output_type": "stream",
     "text": [
      "111.6283740839982\n"
     ]
    },
    {
     "name": "stderr",
     "output_type": "stream",
     "text": [
      "C:\\Users\\apathak\\AppData\\Local\\Continuum\\anaconda3\\lib\\site-packages\\sklearn\\linear_model\\coordinate_descent.py:475: ConvergenceWarning: Objective did not converge. You might want to increase the number of iterations. Duality gap: 14553870.15840149, tolerance: 2504020.926071162\n",
      "  positive)\n"
     ]
    },
    {
     "name": "stdout",
     "output_type": "stream",
     "text": [
      "111.46868801500828\n",
      "111.30876722135108\n"
     ]
    },
    {
     "name": "stderr",
     "output_type": "stream",
     "text": [
      "C:\\Users\\apathak\\AppData\\Local\\Continuum\\anaconda3\\lib\\site-packages\\sklearn\\linear_model\\coordinate_descent.py:475: ConvergenceWarning: Objective did not converge. You might want to increase the number of iterations. Duality gap: 10917539.031703949, tolerance: 2504020.926071162\n",
      "  positive)\n"
     ]
    }
   ],
   "source": [
    "from sklearn.linear_model import Lasso\n",
    "\n",
    "lm = Lasso(alpha = 0.1)\n",
    "lm.fit(x_train, y_train)\n",
    "y_pred = lm.predict(x_valid)\n",
    "print(smape(y_valid, y_pred))"
   ]
  },
  {
   "cell_type": "code",
   "execution_count": 75,
   "metadata": {},
   "outputs": [
    {
     "name": "stdout",
     "output_type": "stream",
     "text": [
      "113.1476212364091\n"
     ]
    },
    {
     "name": "stderr",
     "output_type": "stream",
     "text": [
      "C:\\Users\\apathak\\AppData\\Local\\Continuum\\anaconda3\\lib\\site-packages\\sklearn\\linear_model\\coordinate_descent.py:475: ConvergenceWarning: Objective did not converge. You might want to increase the number of iterations. Duality gap: 2926225433.7548428, tolerance: 2504020.926071162\n",
      "  positive)\n"
     ]
    }
   ],
   "source": [
    "from sklearn.linear_model import ElasticNet\n",
    "\n",
    "lm = ElasticNet(alpha = 0.1)\n",
    "lm.fit(x_train, y_train)\n",
    "y_pred = lm.predict(x_valid)\n",
    "print(smape(y_valid, y_pred))"
   ]
  },
  {
   "cell_type": "code",
   "execution_count": 81,
   "metadata": {},
   "outputs": [
    {
     "name": "stdout",
     "output_type": "stream",
     "text": [
      "47.85789987484185\n"
     ]
    }
   ],
   "source": [
    "from sklearn.tree import DecisionTreeRegressor\n",
    "\n",
    "tree = DecisionTreeRegressor(max_depth = 10,\n",
    "                            min_samples_split = 10,\n",
    "                            min_samples_leaf = 100)\n",
    "tree.fit(x_train, y_train)\n",
    "y_pred = lm.predict(x_valid)\n",
    "print(smape(y_valid, y_pred))"
   ]
  },
  {
   "cell_type": "code",
   "execution_count": null,
   "metadata": {},
   "outputs": [],
   "source": []
  },
  {
   "cell_type": "code",
   "execution_count": null,
   "metadata": {},
   "outputs": [],
   "source": []
  },
  {
   "cell_type": "code",
   "execution_count": null,
   "metadata": {},
   "outputs": [],
   "source": []
  }
 ],
 "metadata": {
  "kernelspec": {
   "display_name": "Python 3",
   "language": "python",
   "name": "python3"
  }
 },
 "nbformat": 4,
 "nbformat_minor": 2
}
